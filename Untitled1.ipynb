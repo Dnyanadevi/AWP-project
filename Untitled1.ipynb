{
 "cells": [
  {
   "cell_type": "code",
   "execution_count": 2,
   "id": "5a3e6ca7-50b7-41bf-9cd4-65d7afa352c8",
   "metadata": {},
   "outputs": [],
   "source": [
    "import numpy as np\n",
    "import pandas as pd\n",
    "import matplotlib.pyplot as plt\n",
    "import seaborn as sns\n"
   ]
  },
  {
   "cell_type": "code",
   "execution_count": 3,
   "id": "727a0cc1-5631-4afd-9797-c27f612d3468",
   "metadata": {},
   "outputs": [
    {
     "data": {
      "text/html": [
       "<div>\n",
       "<style scoped>\n",
       "    .dataframe tbody tr th:only-of-type {\n",
       "        vertical-align: middle;\n",
       "    }\n",
       "\n",
       "    .dataframe tbody tr th {\n",
       "        vertical-align: top;\n",
       "    }\n",
       "\n",
       "    .dataframe thead th {\n",
       "        text-align: right;\n",
       "    }\n",
       "</style>\n",
       "<table border=\"1\" class=\"dataframe\">\n",
       "  <thead>\n",
       "    <tr style=\"text-align: right;\">\n",
       "      <th></th>\n",
       "      <th>date</th>\n",
       "      <th>Usage_kWh</th>\n",
       "      <th>Lagging_Current_Reactive.Power_kVarh</th>\n",
       "      <th>Leading_Current_Reactive_Power_kVarh</th>\n",
       "      <th>CO2(tCO2)</th>\n",
       "      <th>Lagging_Current_Power_Factor</th>\n",
       "      <th>Leading_Current_Power_Factor</th>\n",
       "      <th>NSM</th>\n",
       "      <th>WeekStatus</th>\n",
       "      <th>Day_of_week</th>\n",
       "      <th>Load_Type</th>\n",
       "    </tr>\n",
       "  </thead>\n",
       "  <tbody>\n",
       "    <tr>\n",
       "      <th>0</th>\n",
       "      <td>01/01/2018 00:15</td>\n",
       "      <td>3.17</td>\n",
       "      <td>2.95</td>\n",
       "      <td>0.00</td>\n",
       "      <td>0.0</td>\n",
       "      <td>73.21</td>\n",
       "      <td>100.00</td>\n",
       "      <td>900</td>\n",
       "      <td>Weekday</td>\n",
       "      <td>Monday</td>\n",
       "      <td>Light_Load</td>\n",
       "    </tr>\n",
       "    <tr>\n",
       "      <th>1</th>\n",
       "      <td>01/01/2018 00:30</td>\n",
       "      <td>4.00</td>\n",
       "      <td>4.46</td>\n",
       "      <td>0.00</td>\n",
       "      <td>0.0</td>\n",
       "      <td>66.77</td>\n",
       "      <td>100.00</td>\n",
       "      <td>1800</td>\n",
       "      <td>Weekday</td>\n",
       "      <td>Monday</td>\n",
       "      <td>Light_Load</td>\n",
       "    </tr>\n",
       "    <tr>\n",
       "      <th>2</th>\n",
       "      <td>01/01/2018 00:45</td>\n",
       "      <td>3.24</td>\n",
       "      <td>3.28</td>\n",
       "      <td>0.00</td>\n",
       "      <td>0.0</td>\n",
       "      <td>70.28</td>\n",
       "      <td>100.00</td>\n",
       "      <td>2700</td>\n",
       "      <td>Weekday</td>\n",
       "      <td>Monday</td>\n",
       "      <td>Light_Load</td>\n",
       "    </tr>\n",
       "    <tr>\n",
       "      <th>3</th>\n",
       "      <td>01/01/2018 01:00</td>\n",
       "      <td>3.31</td>\n",
       "      <td>3.56</td>\n",
       "      <td>0.00</td>\n",
       "      <td>0.0</td>\n",
       "      <td>68.09</td>\n",
       "      <td>100.00</td>\n",
       "      <td>3600</td>\n",
       "      <td>Weekday</td>\n",
       "      <td>Monday</td>\n",
       "      <td>Light_Load</td>\n",
       "    </tr>\n",
       "    <tr>\n",
       "      <th>4</th>\n",
       "      <td>01/01/2018 01:15</td>\n",
       "      <td>3.82</td>\n",
       "      <td>4.50</td>\n",
       "      <td>0.00</td>\n",
       "      <td>0.0</td>\n",
       "      <td>64.72</td>\n",
       "      <td>100.00</td>\n",
       "      <td>4500</td>\n",
       "      <td>Weekday</td>\n",
       "      <td>Monday</td>\n",
       "      <td>Light_Load</td>\n",
       "    </tr>\n",
       "    <tr>\n",
       "      <th>...</th>\n",
       "      <td>...</td>\n",
       "      <td>...</td>\n",
       "      <td>...</td>\n",
       "      <td>...</td>\n",
       "      <td>...</td>\n",
       "      <td>...</td>\n",
       "      <td>...</td>\n",
       "      <td>...</td>\n",
       "      <td>...</td>\n",
       "      <td>...</td>\n",
       "      <td>...</td>\n",
       "    </tr>\n",
       "    <tr>\n",
       "      <th>35035</th>\n",
       "      <td>31/12/2018 23:00</td>\n",
       "      <td>3.85</td>\n",
       "      <td>4.86</td>\n",
       "      <td>0.00</td>\n",
       "      <td>0.0</td>\n",
       "      <td>62.10</td>\n",
       "      <td>100.00</td>\n",
       "      <td>82800</td>\n",
       "      <td>Weekday</td>\n",
       "      <td>Monday</td>\n",
       "      <td>Light_Load</td>\n",
       "    </tr>\n",
       "    <tr>\n",
       "      <th>35036</th>\n",
       "      <td>31/12/2018 23:15</td>\n",
       "      <td>3.74</td>\n",
       "      <td>3.74</td>\n",
       "      <td>0.00</td>\n",
       "      <td>0.0</td>\n",
       "      <td>70.71</td>\n",
       "      <td>100.00</td>\n",
       "      <td>83700</td>\n",
       "      <td>Weekday</td>\n",
       "      <td>Monday</td>\n",
       "      <td>Light_Load</td>\n",
       "    </tr>\n",
       "    <tr>\n",
       "      <th>35037</th>\n",
       "      <td>31/12/2018 23:30</td>\n",
       "      <td>3.78</td>\n",
       "      <td>3.17</td>\n",
       "      <td>0.07</td>\n",
       "      <td>0.0</td>\n",
       "      <td>76.62</td>\n",
       "      <td>99.98</td>\n",
       "      <td>84600</td>\n",
       "      <td>Weekday</td>\n",
       "      <td>Monday</td>\n",
       "      <td>Light_Load</td>\n",
       "    </tr>\n",
       "    <tr>\n",
       "      <th>35038</th>\n",
       "      <td>31/12/2018 23:45</td>\n",
       "      <td>3.78</td>\n",
       "      <td>3.06</td>\n",
       "      <td>0.11</td>\n",
       "      <td>0.0</td>\n",
       "      <td>77.72</td>\n",
       "      <td>99.96</td>\n",
       "      <td>85500</td>\n",
       "      <td>Weekday</td>\n",
       "      <td>Monday</td>\n",
       "      <td>Light_Load</td>\n",
       "    </tr>\n",
       "    <tr>\n",
       "      <th>35039</th>\n",
       "      <td>31/12/2018 00:00</td>\n",
       "      <td>3.67</td>\n",
       "      <td>3.02</td>\n",
       "      <td>0.07</td>\n",
       "      <td>0.0</td>\n",
       "      <td>77.22</td>\n",
       "      <td>99.98</td>\n",
       "      <td>0</td>\n",
       "      <td>Weekday</td>\n",
       "      <td>Monday</td>\n",
       "      <td>Light_Load</td>\n",
       "    </tr>\n",
       "  </tbody>\n",
       "</table>\n",
       "<p>35040 rows × 11 columns</p>\n",
       "</div>"
      ],
      "text/plain": [
       "                   date  Usage_kWh  Lagging_Current_Reactive.Power_kVarh  \\\n",
       "0      01/01/2018 00:15       3.17                                  2.95   \n",
       "1      01/01/2018 00:30       4.00                                  4.46   \n",
       "2      01/01/2018 00:45       3.24                                  3.28   \n",
       "3      01/01/2018 01:00       3.31                                  3.56   \n",
       "4      01/01/2018 01:15       3.82                                  4.50   \n",
       "...                 ...        ...                                   ...   \n",
       "35035  31/12/2018 23:00       3.85                                  4.86   \n",
       "35036  31/12/2018 23:15       3.74                                  3.74   \n",
       "35037  31/12/2018 23:30       3.78                                  3.17   \n",
       "35038  31/12/2018 23:45       3.78                                  3.06   \n",
       "35039  31/12/2018 00:00       3.67                                  3.02   \n",
       "\n",
       "       Leading_Current_Reactive_Power_kVarh  CO2(tCO2)  \\\n",
       "0                                      0.00        0.0   \n",
       "1                                      0.00        0.0   \n",
       "2                                      0.00        0.0   \n",
       "3                                      0.00        0.0   \n",
       "4                                      0.00        0.0   \n",
       "...                                     ...        ...   \n",
       "35035                                  0.00        0.0   \n",
       "35036                                  0.00        0.0   \n",
       "35037                                  0.07        0.0   \n",
       "35038                                  0.11        0.0   \n",
       "35039                                  0.07        0.0   \n",
       "\n",
       "       Lagging_Current_Power_Factor  Leading_Current_Power_Factor    NSM  \\\n",
       "0                             73.21                        100.00    900   \n",
       "1                             66.77                        100.00   1800   \n",
       "2                             70.28                        100.00   2700   \n",
       "3                             68.09                        100.00   3600   \n",
       "4                             64.72                        100.00   4500   \n",
       "...                             ...                           ...    ...   \n",
       "35035                         62.10                        100.00  82800   \n",
       "35036                         70.71                        100.00  83700   \n",
       "35037                         76.62                         99.98  84600   \n",
       "35038                         77.72                         99.96  85500   \n",
       "35039                         77.22                         99.98      0   \n",
       "\n",
       "      WeekStatus Day_of_week   Load_Type  \n",
       "0        Weekday      Monday  Light_Load  \n",
       "1        Weekday      Monday  Light_Load  \n",
       "2        Weekday      Monday  Light_Load  \n",
       "3        Weekday      Monday  Light_Load  \n",
       "4        Weekday      Monday  Light_Load  \n",
       "...          ...         ...         ...  \n",
       "35035    Weekday      Monday  Light_Load  \n",
       "35036    Weekday      Monday  Light_Load  \n",
       "35037    Weekday      Monday  Light_Load  \n",
       "35038    Weekday      Monday  Light_Load  \n",
       "35039    Weekday      Monday  Light_Load  \n",
       "\n",
       "[35040 rows x 11 columns]"
      ]
     },
     "execution_count": 3,
     "metadata": {},
     "output_type": "execute_result"
    }
   ],
   "source": [
    "df = pd.read_csv('Steel_industry_data.csv')\n",
    "df"
   ]
  },
  {
   "cell_type": "code",
   "execution_count": 4,
   "id": "516b93aa-0bfe-4bcc-a23d-36e8735c3970",
   "metadata": {},
   "outputs": [
    {
     "data": {
      "text/plain": [
       "385440"
      ]
     },
     "execution_count": 4,
     "metadata": {},
     "output_type": "execute_result"
    }
   ],
   "source": [
    "df.size"
   ]
  },
  {
   "cell_type": "code",
   "execution_count": 5,
   "id": "42991fce-cc26-403c-aef5-f90e6ff43866",
   "metadata": {},
   "outputs": [
    {
     "data": {
      "text/plain": [
       "(35040, 11)"
      ]
     },
     "execution_count": 5,
     "metadata": {},
     "output_type": "execute_result"
    }
   ],
   "source": [
    "df.shape"
   ]
  },
  {
   "cell_type": "code",
   "execution_count": 6,
   "id": "1222f3d4-adac-4021-9aef-52074e8c8f71",
   "metadata": {},
   "outputs": [
    {
     "data": {
      "text/html": [
       "<div>\n",
       "<style scoped>\n",
       "    .dataframe tbody tr th:only-of-type {\n",
       "        vertical-align: middle;\n",
       "    }\n",
       "\n",
       "    .dataframe tbody tr th {\n",
       "        vertical-align: top;\n",
       "    }\n",
       "\n",
       "    .dataframe thead th {\n",
       "        text-align: right;\n",
       "    }\n",
       "</style>\n",
       "<table border=\"1\" class=\"dataframe\">\n",
       "  <thead>\n",
       "    <tr style=\"text-align: right;\">\n",
       "      <th></th>\n",
       "      <th>date</th>\n",
       "      <th>Usage_kWh</th>\n",
       "      <th>Lagging_Current_Reactive.Power_kVarh</th>\n",
       "      <th>Leading_Current_Reactive_Power_kVarh</th>\n",
       "      <th>CO2(tCO2)</th>\n",
       "      <th>Lagging_Current_Power_Factor</th>\n",
       "      <th>Leading_Current_Power_Factor</th>\n",
       "      <th>NSM</th>\n",
       "      <th>WeekStatus</th>\n",
       "      <th>Day_of_week</th>\n",
       "      <th>Load_Type</th>\n",
       "    </tr>\n",
       "  </thead>\n",
       "  <tbody>\n",
       "    <tr>\n",
       "      <th>0</th>\n",
       "      <td>01/01/2018 00:15</td>\n",
       "      <td>3.17</td>\n",
       "      <td>2.95</td>\n",
       "      <td>0.0</td>\n",
       "      <td>0.0</td>\n",
       "      <td>73.21</td>\n",
       "      <td>100.0</td>\n",
       "      <td>900</td>\n",
       "      <td>Weekday</td>\n",
       "      <td>Monday</td>\n",
       "      <td>Light_Load</td>\n",
       "    </tr>\n",
       "    <tr>\n",
       "      <th>1</th>\n",
       "      <td>01/01/2018 00:30</td>\n",
       "      <td>4.00</td>\n",
       "      <td>4.46</td>\n",
       "      <td>0.0</td>\n",
       "      <td>0.0</td>\n",
       "      <td>66.77</td>\n",
       "      <td>100.0</td>\n",
       "      <td>1800</td>\n",
       "      <td>Weekday</td>\n",
       "      <td>Monday</td>\n",
       "      <td>Light_Load</td>\n",
       "    </tr>\n",
       "    <tr>\n",
       "      <th>2</th>\n",
       "      <td>01/01/2018 00:45</td>\n",
       "      <td>3.24</td>\n",
       "      <td>3.28</td>\n",
       "      <td>0.0</td>\n",
       "      <td>0.0</td>\n",
       "      <td>70.28</td>\n",
       "      <td>100.0</td>\n",
       "      <td>2700</td>\n",
       "      <td>Weekday</td>\n",
       "      <td>Monday</td>\n",
       "      <td>Light_Load</td>\n",
       "    </tr>\n",
       "    <tr>\n",
       "      <th>3</th>\n",
       "      <td>01/01/2018 01:00</td>\n",
       "      <td>3.31</td>\n",
       "      <td>3.56</td>\n",
       "      <td>0.0</td>\n",
       "      <td>0.0</td>\n",
       "      <td>68.09</td>\n",
       "      <td>100.0</td>\n",
       "      <td>3600</td>\n",
       "      <td>Weekday</td>\n",
       "      <td>Monday</td>\n",
       "      <td>Light_Load</td>\n",
       "    </tr>\n",
       "    <tr>\n",
       "      <th>4</th>\n",
       "      <td>01/01/2018 01:15</td>\n",
       "      <td>3.82</td>\n",
       "      <td>4.50</td>\n",
       "      <td>0.0</td>\n",
       "      <td>0.0</td>\n",
       "      <td>64.72</td>\n",
       "      <td>100.0</td>\n",
       "      <td>4500</td>\n",
       "      <td>Weekday</td>\n",
       "      <td>Monday</td>\n",
       "      <td>Light_Load</td>\n",
       "    </tr>\n",
       "  </tbody>\n",
       "</table>\n",
       "</div>"
      ],
      "text/plain": [
       "               date  Usage_kWh  Lagging_Current_Reactive.Power_kVarh  \\\n",
       "0  01/01/2018 00:15       3.17                                  2.95   \n",
       "1  01/01/2018 00:30       4.00                                  4.46   \n",
       "2  01/01/2018 00:45       3.24                                  3.28   \n",
       "3  01/01/2018 01:00       3.31                                  3.56   \n",
       "4  01/01/2018 01:15       3.82                                  4.50   \n",
       "\n",
       "   Leading_Current_Reactive_Power_kVarh  CO2(tCO2)  \\\n",
       "0                                   0.0        0.0   \n",
       "1                                   0.0        0.0   \n",
       "2                                   0.0        0.0   \n",
       "3                                   0.0        0.0   \n",
       "4                                   0.0        0.0   \n",
       "\n",
       "   Lagging_Current_Power_Factor  Leading_Current_Power_Factor   NSM  \\\n",
       "0                         73.21                         100.0   900   \n",
       "1                         66.77                         100.0  1800   \n",
       "2                         70.28                         100.0  2700   \n",
       "3                         68.09                         100.0  3600   \n",
       "4                         64.72                         100.0  4500   \n",
       "\n",
       "  WeekStatus Day_of_week   Load_Type  \n",
       "0    Weekday      Monday  Light_Load  \n",
       "1    Weekday      Monday  Light_Load  \n",
       "2    Weekday      Monday  Light_Load  \n",
       "3    Weekday      Monday  Light_Load  \n",
       "4    Weekday      Monday  Light_Load  "
      ]
     },
     "execution_count": 6,
     "metadata": {},
     "output_type": "execute_result"
    }
   ],
   "source": [
    "df.head()"
   ]
  },
  {
   "cell_type": "code",
   "execution_count": 7,
   "id": "2de51140-2680-4083-8a1e-1f20c042be8a",
   "metadata": {},
   "outputs": [
    {
     "data": {
      "text/html": [
       "<div>\n",
       "<style scoped>\n",
       "    .dataframe tbody tr th:only-of-type {\n",
       "        vertical-align: middle;\n",
       "    }\n",
       "\n",
       "    .dataframe tbody tr th {\n",
       "        vertical-align: top;\n",
       "    }\n",
       "\n",
       "    .dataframe thead th {\n",
       "        text-align: right;\n",
       "    }\n",
       "</style>\n",
       "<table border=\"1\" class=\"dataframe\">\n",
       "  <thead>\n",
       "    <tr style=\"text-align: right;\">\n",
       "      <th></th>\n",
       "      <th>date</th>\n",
       "      <th>Usage_kWh</th>\n",
       "      <th>Lagging_Current_Reactive.Power_kVarh</th>\n",
       "      <th>Leading_Current_Reactive_Power_kVarh</th>\n",
       "      <th>CO2(tCO2)</th>\n",
       "      <th>Lagging_Current_Power_Factor</th>\n",
       "      <th>Leading_Current_Power_Factor</th>\n",
       "      <th>NSM</th>\n",
       "      <th>WeekStatus</th>\n",
       "      <th>Day_of_week</th>\n",
       "      <th>Load_Type</th>\n",
       "    </tr>\n",
       "  </thead>\n",
       "  <tbody>\n",
       "    <tr>\n",
       "      <th>35035</th>\n",
       "      <td>31/12/2018 23:00</td>\n",
       "      <td>3.85</td>\n",
       "      <td>4.86</td>\n",
       "      <td>0.00</td>\n",
       "      <td>0.0</td>\n",
       "      <td>62.10</td>\n",
       "      <td>100.00</td>\n",
       "      <td>82800</td>\n",
       "      <td>Weekday</td>\n",
       "      <td>Monday</td>\n",
       "      <td>Light_Load</td>\n",
       "    </tr>\n",
       "    <tr>\n",
       "      <th>35036</th>\n",
       "      <td>31/12/2018 23:15</td>\n",
       "      <td>3.74</td>\n",
       "      <td>3.74</td>\n",
       "      <td>0.00</td>\n",
       "      <td>0.0</td>\n",
       "      <td>70.71</td>\n",
       "      <td>100.00</td>\n",
       "      <td>83700</td>\n",
       "      <td>Weekday</td>\n",
       "      <td>Monday</td>\n",
       "      <td>Light_Load</td>\n",
       "    </tr>\n",
       "    <tr>\n",
       "      <th>35037</th>\n",
       "      <td>31/12/2018 23:30</td>\n",
       "      <td>3.78</td>\n",
       "      <td>3.17</td>\n",
       "      <td>0.07</td>\n",
       "      <td>0.0</td>\n",
       "      <td>76.62</td>\n",
       "      <td>99.98</td>\n",
       "      <td>84600</td>\n",
       "      <td>Weekday</td>\n",
       "      <td>Monday</td>\n",
       "      <td>Light_Load</td>\n",
       "    </tr>\n",
       "    <tr>\n",
       "      <th>35038</th>\n",
       "      <td>31/12/2018 23:45</td>\n",
       "      <td>3.78</td>\n",
       "      <td>3.06</td>\n",
       "      <td>0.11</td>\n",
       "      <td>0.0</td>\n",
       "      <td>77.72</td>\n",
       "      <td>99.96</td>\n",
       "      <td>85500</td>\n",
       "      <td>Weekday</td>\n",
       "      <td>Monday</td>\n",
       "      <td>Light_Load</td>\n",
       "    </tr>\n",
       "    <tr>\n",
       "      <th>35039</th>\n",
       "      <td>31/12/2018 00:00</td>\n",
       "      <td>3.67</td>\n",
       "      <td>3.02</td>\n",
       "      <td>0.07</td>\n",
       "      <td>0.0</td>\n",
       "      <td>77.22</td>\n",
       "      <td>99.98</td>\n",
       "      <td>0</td>\n",
       "      <td>Weekday</td>\n",
       "      <td>Monday</td>\n",
       "      <td>Light_Load</td>\n",
       "    </tr>\n",
       "  </tbody>\n",
       "</table>\n",
       "</div>"
      ],
      "text/plain": [
       "                   date  Usage_kWh  Lagging_Current_Reactive.Power_kVarh  \\\n",
       "35035  31/12/2018 23:00       3.85                                  4.86   \n",
       "35036  31/12/2018 23:15       3.74                                  3.74   \n",
       "35037  31/12/2018 23:30       3.78                                  3.17   \n",
       "35038  31/12/2018 23:45       3.78                                  3.06   \n",
       "35039  31/12/2018 00:00       3.67                                  3.02   \n",
       "\n",
       "       Leading_Current_Reactive_Power_kVarh  CO2(tCO2)  \\\n",
       "35035                                  0.00        0.0   \n",
       "35036                                  0.00        0.0   \n",
       "35037                                  0.07        0.0   \n",
       "35038                                  0.11        0.0   \n",
       "35039                                  0.07        0.0   \n",
       "\n",
       "       Lagging_Current_Power_Factor  Leading_Current_Power_Factor    NSM  \\\n",
       "35035                         62.10                        100.00  82800   \n",
       "35036                         70.71                        100.00  83700   \n",
       "35037                         76.62                         99.98  84600   \n",
       "35038                         77.72                         99.96  85500   \n",
       "35039                         77.22                         99.98      0   \n",
       "\n",
       "      WeekStatus Day_of_week   Load_Type  \n",
       "35035    Weekday      Monday  Light_Load  \n",
       "35036    Weekday      Monday  Light_Load  \n",
       "35037    Weekday      Monday  Light_Load  \n",
       "35038    Weekday      Monday  Light_Load  \n",
       "35039    Weekday      Monday  Light_Load  "
      ]
     },
     "execution_count": 7,
     "metadata": {},
     "output_type": "execute_result"
    }
   ],
   "source": [
    "df.tail()"
   ]
  },
  {
   "cell_type": "code",
   "execution_count": 8,
   "id": "28411f0c-b395-4a54-a305-56bbd5e56432",
   "metadata": {},
   "outputs": [
    {
     "name": "stdout",
     "output_type": "stream",
     "text": [
      "<class 'pandas.core.frame.DataFrame'>\n",
      "RangeIndex: 35040 entries, 0 to 35039\n",
      "Data columns (total 11 columns):\n",
      " #   Column                                Non-Null Count  Dtype  \n",
      "---  ------                                --------------  -----  \n",
      " 0   date                                  35040 non-null  object \n",
      " 1   Usage_kWh                             35040 non-null  float64\n",
      " 2   Lagging_Current_Reactive.Power_kVarh  35040 non-null  float64\n",
      " 3   Leading_Current_Reactive_Power_kVarh  35040 non-null  float64\n",
      " 4   CO2(tCO2)                             35040 non-null  float64\n",
      " 5   Lagging_Current_Power_Factor          35040 non-null  float64\n",
      " 6   Leading_Current_Power_Factor          35040 non-null  float64\n",
      " 7   NSM                                   35040 non-null  int64  \n",
      " 8   WeekStatus                            35040 non-null  object \n",
      " 9   Day_of_week                           35040 non-null  object \n",
      " 10  Load_Type                             35040 non-null  object \n",
      "dtypes: float64(6), int64(1), object(4)\n",
      "memory usage: 2.9+ MB\n"
     ]
    }
   ],
   "source": [
    "df.info()"
   ]
  },
  {
   "cell_type": "code",
   "execution_count": 9,
   "id": "ca740c51-93e4-4f6a-8706-3a1a88cf3973",
   "metadata": {},
   "outputs": [
    {
     "data": {
      "text/html": [
       "<div>\n",
       "<style scoped>\n",
       "    .dataframe tbody tr th:only-of-type {\n",
       "        vertical-align: middle;\n",
       "    }\n",
       "\n",
       "    .dataframe tbody tr th {\n",
       "        vertical-align: top;\n",
       "    }\n",
       "\n",
       "    .dataframe thead th {\n",
       "        text-align: right;\n",
       "    }\n",
       "</style>\n",
       "<table border=\"1\" class=\"dataframe\">\n",
       "  <thead>\n",
       "    <tr style=\"text-align: right;\">\n",
       "      <th></th>\n",
       "      <th>Usage_kWh</th>\n",
       "      <th>Lagging_Current_Reactive.Power_kVarh</th>\n",
       "      <th>Leading_Current_Reactive_Power_kVarh</th>\n",
       "      <th>CO2(tCO2)</th>\n",
       "      <th>Lagging_Current_Power_Factor</th>\n",
       "      <th>Leading_Current_Power_Factor</th>\n",
       "      <th>NSM</th>\n",
       "    </tr>\n",
       "  </thead>\n",
       "  <tbody>\n",
       "    <tr>\n",
       "      <th>count</th>\n",
       "      <td>35040.000000</td>\n",
       "      <td>35040.000000</td>\n",
       "      <td>35040.000000</td>\n",
       "      <td>35040.000000</td>\n",
       "      <td>35040.000000</td>\n",
       "      <td>35040.000000</td>\n",
       "      <td>35040.000000</td>\n",
       "    </tr>\n",
       "    <tr>\n",
       "      <th>mean</th>\n",
       "      <td>27.386892</td>\n",
       "      <td>13.035384</td>\n",
       "      <td>3.870949</td>\n",
       "      <td>0.011524</td>\n",
       "      <td>80.578056</td>\n",
       "      <td>84.367870</td>\n",
       "      <td>42750.000000</td>\n",
       "    </tr>\n",
       "    <tr>\n",
       "      <th>std</th>\n",
       "      <td>33.444380</td>\n",
       "      <td>16.306000</td>\n",
       "      <td>7.424463</td>\n",
       "      <td>0.016151</td>\n",
       "      <td>18.921322</td>\n",
       "      <td>30.456535</td>\n",
       "      <td>24940.534317</td>\n",
       "    </tr>\n",
       "    <tr>\n",
       "      <th>min</th>\n",
       "      <td>0.000000</td>\n",
       "      <td>0.000000</td>\n",
       "      <td>0.000000</td>\n",
       "      <td>0.000000</td>\n",
       "      <td>0.000000</td>\n",
       "      <td>0.000000</td>\n",
       "      <td>0.000000</td>\n",
       "    </tr>\n",
       "    <tr>\n",
       "      <th>25%</th>\n",
       "      <td>3.200000</td>\n",
       "      <td>2.300000</td>\n",
       "      <td>0.000000</td>\n",
       "      <td>0.000000</td>\n",
       "      <td>63.320000</td>\n",
       "      <td>99.700000</td>\n",
       "      <td>21375.000000</td>\n",
       "    </tr>\n",
       "    <tr>\n",
       "      <th>50%</th>\n",
       "      <td>4.570000</td>\n",
       "      <td>5.000000</td>\n",
       "      <td>0.000000</td>\n",
       "      <td>0.000000</td>\n",
       "      <td>87.960000</td>\n",
       "      <td>100.000000</td>\n",
       "      <td>42750.000000</td>\n",
       "    </tr>\n",
       "    <tr>\n",
       "      <th>75%</th>\n",
       "      <td>51.237500</td>\n",
       "      <td>22.640000</td>\n",
       "      <td>2.090000</td>\n",
       "      <td>0.020000</td>\n",
       "      <td>99.022500</td>\n",
       "      <td>100.000000</td>\n",
       "      <td>64125.000000</td>\n",
       "    </tr>\n",
       "    <tr>\n",
       "      <th>max</th>\n",
       "      <td>157.180000</td>\n",
       "      <td>96.910000</td>\n",
       "      <td>27.760000</td>\n",
       "      <td>0.070000</td>\n",
       "      <td>100.000000</td>\n",
       "      <td>100.000000</td>\n",
       "      <td>85500.000000</td>\n",
       "    </tr>\n",
       "  </tbody>\n",
       "</table>\n",
       "</div>"
      ],
      "text/plain": [
       "          Usage_kWh  Lagging_Current_Reactive.Power_kVarh  \\\n",
       "count  35040.000000                          35040.000000   \n",
       "mean      27.386892                             13.035384   \n",
       "std       33.444380                             16.306000   \n",
       "min        0.000000                              0.000000   \n",
       "25%        3.200000                              2.300000   \n",
       "50%        4.570000                              5.000000   \n",
       "75%       51.237500                             22.640000   \n",
       "max      157.180000                             96.910000   \n",
       "\n",
       "       Leading_Current_Reactive_Power_kVarh     CO2(tCO2)  \\\n",
       "count                          35040.000000  35040.000000   \n",
       "mean                               3.870949      0.011524   \n",
       "std                                7.424463      0.016151   \n",
       "min                                0.000000      0.000000   \n",
       "25%                                0.000000      0.000000   \n",
       "50%                                0.000000      0.000000   \n",
       "75%                                2.090000      0.020000   \n",
       "max                               27.760000      0.070000   \n",
       "\n",
       "       Lagging_Current_Power_Factor  Leading_Current_Power_Factor  \\\n",
       "count                  35040.000000                  35040.000000   \n",
       "mean                      80.578056                     84.367870   \n",
       "std                       18.921322                     30.456535   \n",
       "min                        0.000000                      0.000000   \n",
       "25%                       63.320000                     99.700000   \n",
       "50%                       87.960000                    100.000000   \n",
       "75%                       99.022500                    100.000000   \n",
       "max                      100.000000                    100.000000   \n",
       "\n",
       "                NSM  \n",
       "count  35040.000000  \n",
       "mean   42750.000000  \n",
       "std    24940.534317  \n",
       "min        0.000000  \n",
       "25%    21375.000000  \n",
       "50%    42750.000000  \n",
       "75%    64125.000000  \n",
       "max    85500.000000  "
      ]
     },
     "execution_count": 9,
     "metadata": {},
     "output_type": "execute_result"
    }
   ],
   "source": [
    "df.describe()"
   ]
  },
  {
   "cell_type": "markdown",
   "id": "de142571-2604-4a54-919f-fa7d1a6921c7",
   "metadata": {},
   "source": [
    "# Handle missing value"
   ]
  },
  {
   "cell_type": "code",
   "execution_count": 10,
   "id": "644d31f4-014f-40eb-9976-b0e1dd39730d",
   "metadata": {},
   "outputs": [
    {
     "data": {
      "text/plain": [
       "date                                    0\n",
       "Usage_kWh                               0\n",
       "Lagging_Current_Reactive.Power_kVarh    0\n",
       "Leading_Current_Reactive_Power_kVarh    0\n",
       "CO2(tCO2)                               0\n",
       "Lagging_Current_Power_Factor            0\n",
       "Leading_Current_Power_Factor            0\n",
       "NSM                                     0\n",
       "WeekStatus                              0\n",
       "Day_of_week                             0\n",
       "Load_Type                               0\n",
       "dtype: int64"
      ]
     },
     "execution_count": 10,
     "metadata": {},
     "output_type": "execute_result"
    }
   ],
   "source": [
    "df.isnull().sum()"
   ]
  },
  {
   "cell_type": "code",
   "execution_count": 11,
   "id": "0325c58a-df94-4bc5-a786-e3e0f961b334",
   "metadata": {},
   "outputs": [],
   "source": [
    "# There are no any missing value in data\n",
    "# If there are missing values we can handle it with mean, median,mode,zero,pad or ffill"
   ]
  },
  {
   "cell_type": "code",
   "execution_count": 12,
   "id": "4edd9d0b-4851-4bda-abbb-cc687d164254",
   "metadata": {},
   "outputs": [
    {
     "data": {
      "text/html": [
       "<div>\n",
       "<style scoped>\n",
       "    .dataframe tbody tr th:only-of-type {\n",
       "        vertical-align: middle;\n",
       "    }\n",
       "\n",
       "    .dataframe tbody tr th {\n",
       "        vertical-align: top;\n",
       "    }\n",
       "\n",
       "    .dataframe thead th {\n",
       "        text-align: right;\n",
       "    }\n",
       "</style>\n",
       "<table border=\"1\" class=\"dataframe\">\n",
       "  <thead>\n",
       "    <tr style=\"text-align: right;\">\n",
       "      <th></th>\n",
       "      <th>Usage_kWh</th>\n",
       "      <th>Lagging_Current_Reactive.Power_kVarh</th>\n",
       "      <th>Leading_Current_Reactive_Power_kVarh</th>\n",
       "      <th>CO2(tCO2)</th>\n",
       "      <th>Lagging_Current_Power_Factor</th>\n",
       "      <th>Leading_Current_Power_Factor</th>\n",
       "      <th>NSM</th>\n",
       "    </tr>\n",
       "    <tr>\n",
       "      <th>date</th>\n",
       "      <th></th>\n",
       "      <th></th>\n",
       "      <th></th>\n",
       "      <th></th>\n",
       "      <th></th>\n",
       "      <th></th>\n",
       "      <th></th>\n",
       "    </tr>\n",
       "  </thead>\n",
       "  <tbody>\n",
       "    <tr>\n",
       "      <th>01/01/2018 00:00</th>\n",
       "      <td>3.42</td>\n",
       "      <td>3.46</td>\n",
       "      <td>0.00</td>\n",
       "      <td>0.0</td>\n",
       "      <td>70.30</td>\n",
       "      <td>100.00</td>\n",
       "      <td>0</td>\n",
       "    </tr>\n",
       "    <tr>\n",
       "      <th>01/01/2018 00:15</th>\n",
       "      <td>3.17</td>\n",
       "      <td>2.95</td>\n",
       "      <td>0.00</td>\n",
       "      <td>0.0</td>\n",
       "      <td>73.21</td>\n",
       "      <td>100.00</td>\n",
       "      <td>900</td>\n",
       "    </tr>\n",
       "    <tr>\n",
       "      <th>01/01/2018 00:30</th>\n",
       "      <td>4.00</td>\n",
       "      <td>4.46</td>\n",
       "      <td>0.00</td>\n",
       "      <td>0.0</td>\n",
       "      <td>66.77</td>\n",
       "      <td>100.00</td>\n",
       "      <td>1800</td>\n",
       "    </tr>\n",
       "    <tr>\n",
       "      <th>01/01/2018 00:45</th>\n",
       "      <td>3.24</td>\n",
       "      <td>3.28</td>\n",
       "      <td>0.00</td>\n",
       "      <td>0.0</td>\n",
       "      <td>70.28</td>\n",
       "      <td>100.00</td>\n",
       "      <td>2700</td>\n",
       "    </tr>\n",
       "    <tr>\n",
       "      <th>01/01/2018 01:00</th>\n",
       "      <td>3.31</td>\n",
       "      <td>3.56</td>\n",
       "      <td>0.00</td>\n",
       "      <td>0.0</td>\n",
       "      <td>68.09</td>\n",
       "      <td>100.00</td>\n",
       "      <td>3600</td>\n",
       "    </tr>\n",
       "    <tr>\n",
       "      <th>...</th>\n",
       "      <td>...</td>\n",
       "      <td>...</td>\n",
       "      <td>...</td>\n",
       "      <td>...</td>\n",
       "      <td>...</td>\n",
       "      <td>...</td>\n",
       "      <td>...</td>\n",
       "    </tr>\n",
       "    <tr>\n",
       "      <th>31/12/2018 22:45</th>\n",
       "      <td>3.82</td>\n",
       "      <td>4.54</td>\n",
       "      <td>0.00</td>\n",
       "      <td>0.0</td>\n",
       "      <td>64.38</td>\n",
       "      <td>100.00</td>\n",
       "      <td>81900</td>\n",
       "    </tr>\n",
       "    <tr>\n",
       "      <th>31/12/2018 23:00</th>\n",
       "      <td>3.85</td>\n",
       "      <td>4.86</td>\n",
       "      <td>0.00</td>\n",
       "      <td>0.0</td>\n",
       "      <td>62.10</td>\n",
       "      <td>100.00</td>\n",
       "      <td>82800</td>\n",
       "    </tr>\n",
       "    <tr>\n",
       "      <th>31/12/2018 23:15</th>\n",
       "      <td>3.74</td>\n",
       "      <td>3.74</td>\n",
       "      <td>0.00</td>\n",
       "      <td>0.0</td>\n",
       "      <td>70.71</td>\n",
       "      <td>100.00</td>\n",
       "      <td>83700</td>\n",
       "    </tr>\n",
       "    <tr>\n",
       "      <th>31/12/2018 23:30</th>\n",
       "      <td>3.78</td>\n",
       "      <td>3.17</td>\n",
       "      <td>0.07</td>\n",
       "      <td>0.0</td>\n",
       "      <td>76.62</td>\n",
       "      <td>99.98</td>\n",
       "      <td>84600</td>\n",
       "    </tr>\n",
       "    <tr>\n",
       "      <th>31/12/2018 23:45</th>\n",
       "      <td>3.78</td>\n",
       "      <td>3.06</td>\n",
       "      <td>0.11</td>\n",
       "      <td>0.0</td>\n",
       "      <td>77.72</td>\n",
       "      <td>99.96</td>\n",
       "      <td>85500</td>\n",
       "    </tr>\n",
       "  </tbody>\n",
       "</table>\n",
       "<p>35040 rows × 7 columns</p>\n",
       "</div>"
      ],
      "text/plain": [
       "                  Usage_kWh  Lagging_Current_Reactive.Power_kVarh  \\\n",
       "date                                                                \n",
       "01/01/2018 00:00       3.42                                  3.46   \n",
       "01/01/2018 00:15       3.17                                  2.95   \n",
       "01/01/2018 00:30       4.00                                  4.46   \n",
       "01/01/2018 00:45       3.24                                  3.28   \n",
       "01/01/2018 01:00       3.31                                  3.56   \n",
       "...                     ...                                   ...   \n",
       "31/12/2018 22:45       3.82                                  4.54   \n",
       "31/12/2018 23:00       3.85                                  4.86   \n",
       "31/12/2018 23:15       3.74                                  3.74   \n",
       "31/12/2018 23:30       3.78                                  3.17   \n",
       "31/12/2018 23:45       3.78                                  3.06   \n",
       "\n",
       "                  Leading_Current_Reactive_Power_kVarh  CO2(tCO2)  \\\n",
       "date                                                                \n",
       "01/01/2018 00:00                                  0.00        0.0   \n",
       "01/01/2018 00:15                                  0.00        0.0   \n",
       "01/01/2018 00:30                                  0.00        0.0   \n",
       "01/01/2018 00:45                                  0.00        0.0   \n",
       "01/01/2018 01:00                                  0.00        0.0   \n",
       "...                                                ...        ...   \n",
       "31/12/2018 22:45                                  0.00        0.0   \n",
       "31/12/2018 23:00                                  0.00        0.0   \n",
       "31/12/2018 23:15                                  0.00        0.0   \n",
       "31/12/2018 23:30                                  0.07        0.0   \n",
       "31/12/2018 23:45                                  0.11        0.0   \n",
       "\n",
       "                  Lagging_Current_Power_Factor  Leading_Current_Power_Factor  \\\n",
       "date                                                                           \n",
       "01/01/2018 00:00                         70.30                        100.00   \n",
       "01/01/2018 00:15                         73.21                        100.00   \n",
       "01/01/2018 00:30                         66.77                        100.00   \n",
       "01/01/2018 00:45                         70.28                        100.00   \n",
       "01/01/2018 01:00                         68.09                        100.00   \n",
       "...                                        ...                           ...   \n",
       "31/12/2018 22:45                         64.38                        100.00   \n",
       "31/12/2018 23:00                         62.10                        100.00   \n",
       "31/12/2018 23:15                         70.71                        100.00   \n",
       "31/12/2018 23:30                         76.62                         99.98   \n",
       "31/12/2018 23:45                         77.72                         99.96   \n",
       "\n",
       "                    NSM  \n",
       "date                     \n",
       "01/01/2018 00:00      0  \n",
       "01/01/2018 00:15    900  \n",
       "01/01/2018 00:30   1800  \n",
       "01/01/2018 00:45   2700  \n",
       "01/01/2018 01:00   3600  \n",
       "...                 ...  \n",
       "31/12/2018 22:45  81900  \n",
       "31/12/2018 23:00  82800  \n",
       "31/12/2018 23:15  83700  \n",
       "31/12/2018 23:30  84600  \n",
       "31/12/2018 23:45  85500  \n",
       "\n",
       "[35040 rows x 7 columns]"
      ]
     },
     "execution_count": 12,
     "metadata": {},
     "output_type": "execute_result"
    }
   ],
   "source": [
    "# Groupby \n",
    "df.groupby('date').sum()"
   ]
  },
  {
   "cell_type": "code",
   "execution_count": 13,
   "id": "b5f93684-9291-4628-9e7b-b01f0c6d2302",
   "metadata": {},
   "outputs": [
    {
     "data": {
      "text/plain": [
       "array(['01/01/2018 00:15', '01/01/2018 00:30', '01/01/2018 00:45', ...,\n",
       "       '31/12/2018 23:30', '31/12/2018 23:45', '31/12/2018 00:00'],\n",
       "      dtype=object)"
      ]
     },
     "execution_count": 13,
     "metadata": {},
     "output_type": "execute_result"
    }
   ],
   "source": [
    "df['date'].unique()"
   ]
  },
  {
   "cell_type": "code",
   "execution_count": 14,
   "id": "e89448d6-228c-4f38-b553-e1071e32cdea",
   "metadata": {},
   "outputs": [
    {
     "data": {
      "text/plain": [
       "35040"
      ]
     },
     "execution_count": 14,
     "metadata": {},
     "output_type": "execute_result"
    }
   ],
   "source": [
    "df['date'].nunique()"
   ]
  },
  {
   "cell_type": "code",
   "execution_count": 15,
   "id": "5a9feddb-8aba-4d5f-ab27-909f954c95b7",
   "metadata": {},
   "outputs": [
    {
     "data": {
      "text/plain": [
       "array([  900,  1800,  2700,  3600,  4500,  5400,  6300,  7200,  8100,\n",
       "        9000,  9900, 10800, 11700, 12600, 13500, 14400, 15300, 16200,\n",
       "       17100, 18000, 18900, 19800, 20700, 21600, 22500, 23400, 24300,\n",
       "       25200, 26100, 27000, 27900, 28800, 29700, 30600, 31500, 32400,\n",
       "       33300, 34200, 35100, 36000, 36900, 37800, 38700, 39600, 40500,\n",
       "       41400, 42300, 43200, 44100, 45000, 45900, 46800, 47700, 48600,\n",
       "       49500, 50400, 51300, 52200, 53100, 54000, 54900, 55800, 56700,\n",
       "       57600, 58500, 59400, 60300, 61200, 62100, 63000, 63900, 64800,\n",
       "       65700, 66600, 67500, 68400, 69300, 70200, 71100, 72000, 72900,\n",
       "       73800, 74700, 75600, 76500, 77400, 78300, 79200, 80100, 81000,\n",
       "       81900, 82800, 83700, 84600, 85500,     0], dtype=int64)"
      ]
     },
     "execution_count": 15,
     "metadata": {},
     "output_type": "execute_result"
    }
   ],
   "source": [
    "df['NSM'].unique()"
   ]
  },
  {
   "cell_type": "code",
   "execution_count": 16,
   "id": "83a38de6-e403-4894-a400-9f546ed336fc",
   "metadata": {},
   "outputs": [
    {
     "data": {
      "text/plain": [
       "96"
      ]
     },
     "execution_count": 16,
     "metadata": {},
     "output_type": "execute_result"
    }
   ],
   "source": [
    "df['NSM'].nunique()"
   ]
  },
  {
   "cell_type": "code",
   "execution_count": 17,
   "id": "cd3eb6da-de10-4c16-9f0c-1ad3069ba996",
   "metadata": {},
   "outputs": [
    {
     "data": {
      "text/plain": [
       "900      365\n",
       "1800     365\n",
       "63900    365\n",
       "63000    365\n",
       "62100    365\n",
       "        ... \n",
       "27000    365\n",
       "26100    365\n",
       "25200    365\n",
       "24300    365\n",
       "0        365\n",
       "Name: NSM, Length: 96, dtype: int64"
      ]
     },
     "execution_count": 17,
     "metadata": {},
     "output_type": "execute_result"
    }
   ],
   "source": [
    "df['NSM'].value_counts()"
   ]
  },
  {
   "cell_type": "code",
   "execution_count": 18,
   "id": "ee401068-5e74-4375-ba99-92fe37efea46",
   "metadata": {},
   "outputs": [
    {
     "data": {
      "text/plain": [
       "array(['Light_Load', 'Medium_Load', 'Maximum_Load'], dtype=object)"
      ]
     },
     "execution_count": 18,
     "metadata": {},
     "output_type": "execute_result"
    }
   ],
   "source": [
    "df['Load_Type'].unique()"
   ]
  },
  {
   "cell_type": "code",
   "execution_count": 19,
   "id": "936d6784-a243-4be4-bd5a-ccfd5d25121b",
   "metadata": {},
   "outputs": [
    {
     "data": {
      "text/plain": [
       "3"
      ]
     },
     "execution_count": 19,
     "metadata": {},
     "output_type": "execute_result"
    }
   ],
   "source": [
    "df['Load_Type'].nunique()"
   ]
  },
  {
   "cell_type": "code",
   "execution_count": 20,
   "id": "f5e547ce-c8e5-43e7-9bbc-2d3c3fb03e9a",
   "metadata": {},
   "outputs": [
    {
     "data": {
      "text/html": [
       "<div>\n",
       "<style scoped>\n",
       "    .dataframe tbody tr th:only-of-type {\n",
       "        vertical-align: middle;\n",
       "    }\n",
       "\n",
       "    .dataframe tbody tr th {\n",
       "        vertical-align: top;\n",
       "    }\n",
       "\n",
       "    .dataframe thead th {\n",
       "        text-align: right;\n",
       "    }\n",
       "</style>\n",
       "<table border=\"1\" class=\"dataframe\">\n",
       "  <thead>\n",
       "    <tr style=\"text-align: right;\">\n",
       "      <th></th>\n",
       "      <th>Usage_kWh</th>\n",
       "      <th>Lagging_Current_Reactive.Power_kVarh</th>\n",
       "      <th>Leading_Current_Reactive_Power_kVarh</th>\n",
       "      <th>CO2(tCO2)</th>\n",
       "      <th>Lagging_Current_Power_Factor</th>\n",
       "      <th>Leading_Current_Power_Factor</th>\n",
       "      <th>NSM</th>\n",
       "    </tr>\n",
       "  </thead>\n",
       "  <tbody>\n",
       "    <tr>\n",
       "      <th>Usage_kWh</th>\n",
       "      <td>1.000000</td>\n",
       "      <td>0.896150</td>\n",
       "      <td>-0.324922</td>\n",
       "      <td>0.988180</td>\n",
       "      <td>0.385960</td>\n",
       "      <td>0.353566</td>\n",
       "      <td>0.234610</td>\n",
       "    </tr>\n",
       "    <tr>\n",
       "      <th>Lagging_Current_Reactive.Power_kVarh</th>\n",
       "      <td>0.896150</td>\n",
       "      <td>1.000000</td>\n",
       "      <td>-0.405142</td>\n",
       "      <td>0.886948</td>\n",
       "      <td>0.144534</td>\n",
       "      <td>0.407716</td>\n",
       "      <td>0.082662</td>\n",
       "    </tr>\n",
       "    <tr>\n",
       "      <th>Leading_Current_Reactive_Power_kVarh</th>\n",
       "      <td>-0.324922</td>\n",
       "      <td>-0.405142</td>\n",
       "      <td>1.000000</td>\n",
       "      <td>-0.332777</td>\n",
       "      <td>0.526770</td>\n",
       "      <td>-0.944039</td>\n",
       "      <td>0.371605</td>\n",
       "    </tr>\n",
       "    <tr>\n",
       "      <th>CO2(tCO2)</th>\n",
       "      <td>0.988180</td>\n",
       "      <td>0.886948</td>\n",
       "      <td>-0.332777</td>\n",
       "      <td>1.000000</td>\n",
       "      <td>0.379605</td>\n",
       "      <td>0.360019</td>\n",
       "      <td>0.231726</td>\n",
       "    </tr>\n",
       "    <tr>\n",
       "      <th>Lagging_Current_Power_Factor</th>\n",
       "      <td>0.385960</td>\n",
       "      <td>0.144534</td>\n",
       "      <td>0.526770</td>\n",
       "      <td>0.379605</td>\n",
       "      <td>1.000000</td>\n",
       "      <td>-0.519967</td>\n",
       "      <td>0.565270</td>\n",
       "    </tr>\n",
       "    <tr>\n",
       "      <th>Leading_Current_Power_Factor</th>\n",
       "      <td>0.353566</td>\n",
       "      <td>0.407716</td>\n",
       "      <td>-0.944039</td>\n",
       "      <td>0.360019</td>\n",
       "      <td>-0.519967</td>\n",
       "      <td>1.000000</td>\n",
       "      <td>-0.360563</td>\n",
       "    </tr>\n",
       "    <tr>\n",
       "      <th>NSM</th>\n",
       "      <td>0.234610</td>\n",
       "      <td>0.082662</td>\n",
       "      <td>0.371605</td>\n",
       "      <td>0.231726</td>\n",
       "      <td>0.565270</td>\n",
       "      <td>-0.360563</td>\n",
       "      <td>1.000000</td>\n",
       "    </tr>\n",
       "  </tbody>\n",
       "</table>\n",
       "</div>"
      ],
      "text/plain": [
       "                                      Usage_kWh  \\\n",
       "Usage_kWh                              1.000000   \n",
       "Lagging_Current_Reactive.Power_kVarh   0.896150   \n",
       "Leading_Current_Reactive_Power_kVarh  -0.324922   \n",
       "CO2(tCO2)                              0.988180   \n",
       "Lagging_Current_Power_Factor           0.385960   \n",
       "Leading_Current_Power_Factor           0.353566   \n",
       "NSM                                    0.234610   \n",
       "\n",
       "                                      Lagging_Current_Reactive.Power_kVarh  \\\n",
       "Usage_kWh                                                         0.896150   \n",
       "Lagging_Current_Reactive.Power_kVarh                              1.000000   \n",
       "Leading_Current_Reactive_Power_kVarh                             -0.405142   \n",
       "CO2(tCO2)                                                         0.886948   \n",
       "Lagging_Current_Power_Factor                                      0.144534   \n",
       "Leading_Current_Power_Factor                                      0.407716   \n",
       "NSM                                                               0.082662   \n",
       "\n",
       "                                      Leading_Current_Reactive_Power_kVarh  \\\n",
       "Usage_kWh                                                        -0.324922   \n",
       "Lagging_Current_Reactive.Power_kVarh                             -0.405142   \n",
       "Leading_Current_Reactive_Power_kVarh                              1.000000   \n",
       "CO2(tCO2)                                                        -0.332777   \n",
       "Lagging_Current_Power_Factor                                      0.526770   \n",
       "Leading_Current_Power_Factor                                     -0.944039   \n",
       "NSM                                                               0.371605   \n",
       "\n",
       "                                      CO2(tCO2)  Lagging_Current_Power_Factor  \\\n",
       "Usage_kWh                              0.988180                      0.385960   \n",
       "Lagging_Current_Reactive.Power_kVarh   0.886948                      0.144534   \n",
       "Leading_Current_Reactive_Power_kVarh  -0.332777                      0.526770   \n",
       "CO2(tCO2)                              1.000000                      0.379605   \n",
       "Lagging_Current_Power_Factor           0.379605                      1.000000   \n",
       "Leading_Current_Power_Factor           0.360019                     -0.519967   \n",
       "NSM                                    0.231726                      0.565270   \n",
       "\n",
       "                                      Leading_Current_Power_Factor       NSM  \n",
       "Usage_kWh                                                 0.353566  0.234610  \n",
       "Lagging_Current_Reactive.Power_kVarh                      0.407716  0.082662  \n",
       "Leading_Current_Reactive_Power_kVarh                     -0.944039  0.371605  \n",
       "CO2(tCO2)                                                 0.360019  0.231726  \n",
       "Lagging_Current_Power_Factor                             -0.519967  0.565270  \n",
       "Leading_Current_Power_Factor                              1.000000 -0.360563  \n",
       "NSM                                                      -0.360563  1.000000  "
      ]
     },
     "execution_count": 20,
     "metadata": {},
     "output_type": "execute_result"
    }
   ],
   "source": [
    "df.corr()"
   ]
  },
  {
   "cell_type": "code",
   "execution_count": null,
   "id": "92c292d4-f0b0-46a4-959e-06308316fbe0",
   "metadata": {},
   "outputs": [],
   "source": []
  },
  {
   "cell_type": "code",
   "execution_count": 21,
   "id": "b955fcfa-5564-475e-9a10-4aeaba2499a4",
   "metadata": {},
   "outputs": [
    {
     "data": {
      "text/plain": [
       "Text(0.5, 1.0, 'Usage_kWh vs Energy')"
      ]
     },
     "execution_count": 21,
     "metadata": {},
     "output_type": "execute_result"
    },
    {
     "data": {
      "image/png": "[encoded data removed]",
      "text/plain": [
       "<Figure size 576x288 with 1 Axes>"
      ]
     },
     "metadata": {
      "needs_background": "light"
     },
     "output_type": "display_data"
    }
   ],
   "source": [
    "plt.figure(figsize=(8,4))\n",
    "sns.countplot(x=df['Usage_kWh'],order=df['Usage_kWh'].value_counts().index.sort_values())\n",
    "plt.xlabel('Usage_kWh',fontsize=12)\n",
    "plt.ylabel('Energy',fontsize=12)\n",
    "plt.title('Usage_kWh vs Energy',fontsize=16)"
   ]
  },
  {
   "cell_type": "code",
   "execution_count": 22,
   "id": "f3fa8161-640a-432d-a291-dd424869249f",
   "metadata": {},
   "outputs": [],
   "source": [
    "# from this countplot we can see that light_load is maximum "
   ]
  },
  {
   "cell_type": "code",
   "execution_count": 23,
   "id": "79d02908-9f1d-4fe4-92de-dd3ed5e18f75",
   "metadata": {},
   "outputs": [
    {
     "data": {
      "text/plain": [
       "<AxesSubplot:>"
      ]
     },
     "execution_count": 23,
     "metadata": {},
     "output_type": "execute_result"
    },
    {
     "data": {
      "image/png": "[encoded data removed]",
      "text/plain": [
       "<Figure size 432x288 with 1 Axes>"
      ]
     },
     "metadata": {
      "needs_background": "light"
     },
     "output_type": "display_data"
    }
   ],
   "source": [
    "df1 = pd.DataFrame(df['NSM'])\n",
    "df1.plot.box(grid='True')"
   ]
  },
  {
   "cell_type": "code",
   "execution_count": 24,
   "id": "a77be1ba-b78d-4e36-b746-6ea72c35804d",
   "metadata": {},
   "outputs": [
    {
     "data": {
      "text/plain": [
       "array([0.  , 0.02, 0.03, 0.05, 0.06, 0.04, 0.01, 0.07])"
      ]
     },
     "execution_count": 24,
     "metadata": {},
     "output_type": "execute_result"
    }
   ],
   "source": [
    "df['CO2(tCO2)'].unique()"
   ]
  },
  {
   "cell_type": "code",
   "execution_count": 25,
   "id": "6772bda9-8be2-46d1-a497-7c212a3385a2",
   "metadata": {},
   "outputs": [
    {
     "data": {
      "text/plain": [
       "8"
      ]
     },
     "execution_count": 25,
     "metadata": {},
     "output_type": "execute_result"
    }
   ],
   "source": [
    "df['CO2(tCO2)'].nunique()"
   ]
  },
  {
   "cell_type": "code",
   "execution_count": 26,
   "id": "a721b6c9-a99d-48e8-bfbf-4c6c74af8f2f",
   "metadata": {},
   "outputs": [
    {
     "data": {
      "text/plain": [
       "<AxesSubplot:>"
      ]
     },
     "execution_count": 26,
     "metadata": {},
     "output_type": "execute_result"
    },
    {
     "data": {
      "image/png": "[encoded data removed]",
      "text/plain": [
       "<Figure size 432x288 with 1 Axes>"
      ]
     },
     "metadata": {
      "needs_background": "light"
     },
     "output_type": "display_data"
    }
   ],
   "source": [
    "df1 = pd.DataFrame(df['CO2(tCO2)'])\n",
    "df1.plot.box(grid='True')"
   ]
  },
  {
   "cell_type": "code",
   "execution_count": 27,
   "id": "9ab75e68-3e84-4117-9eae-b104174e3c3a",
   "metadata": {},
   "outputs": [
    {
     "data": {
      "image/png": "[encoded data removed]",
      "text/plain": [
       "<Figure size 1296x576 with 1 Axes>"
      ]
     },
     "metadata": {},
     "output_type": "display_data"
    }
   ],
   "source": [
    "from matplotlib import style\n",
    "style.use('ggplot')\n",
    "plt.figure(figsize=(18,8))\n",
    "plt.plot(df['Leading_Current_Reactive_Power_kVarh'])\n",
    "plt.xlabel('Date')\n",
    "plt.ylabel('Leading_Current_Reactive_Power_kVarh')\n",
    "plt.title('Date vs Leading_Current_Reactive_Power_kVarh')\n",
    "plt.grid(True,color='k')"
   ]
  },
  {
   "cell_type": "code",
   "execution_count": 31,
   "id": "33458ed7-68f1-43ba-9b02-1703e1d87bda",
   "metadata": {},
   "outputs": [
    {
     "data": {
      "text/plain": [
       "<function matplotlib.pyplot.show(close=None, block=None)>"
      ]
     },
     "execution_count": 31,
     "metadata": {},
     "output_type": "execute_result"
    },
    {
     "data": {
      "image/png": "[encoded data removed]",
      "text/plain": [
       "<Figure size 1296x576 with 1 Axes>"
      ]
     },
     "metadata": {},
     "output_type": "display_data"
    }
   ],
   "source": [
    "style.use('ggplot')\n",
    "plt.figure(figsize=(18,8))\n",
    "plt.plot(df['date'],df['Lagging_Current_Reactive.Power_kVarh'])\n",
    "plt.xlabel('Date')\n",
    "plt.ylabel('Lagging_Current_Reactive_Power_kVarh')\n",
    "plt.title('Date vs Lagging_Current_Reactive_Power_kVarh')\n",
    "plt.grid(True)\n",
    "plt.show"
   ]
  },
  {
   "cell_type": "code",
   "execution_count": 32,
   "id": "6dc50f89-7aa3-4ec3-9b70-435d90db1340",
   "metadata": {},
   "outputs": [
    {
     "data": {
      "text/plain": [
       "([<matplotlib.patches.Wedge at 0x24309cd39d0>,\n",
       "  <matplotlib.patches.Wedge at 0x2436f4621c0>,\n",
       "  <matplotlib.patches.Wedge at 0x2436f462880>],\n",
       " [Text(-0.05441778713061256, 1.09865313199563, 'Light_Load'),\n",
       "  Text(-0.6233718005687703, -0.906315396678027, 'Medium_Load'),\n",
       "  Text(0.8743670944812129, -0.6674445176106266, 'Maximum_Load')],\n",
       " [Text(-0.029682429343970484, 0.5992653447248891, '51.58%'),\n",
       "  Text(-0.3400209821284201, -0.4943538527334692, '27.67%'),\n",
       "  Text(0.4769275060806615, -0.36406064596943266, '20.75%')])"
      ]
     },
     "execution_count": 32,
     "metadata": {},
     "output_type": "execute_result"
    },
    {
     "data": {
      "image/png": "[encoded data removed]",
      "text/plain": [
       "<Figure size 864x360 with 1 Axes>"
      ]
     },
     "metadata": {},
     "output_type": "display_data"
    }
   ],
   "source": [
    "plt.figure(figsize=(12,5))\n",
    "plt.pie(df['Load_Type'].value_counts(),\n",
    "        labels=df['Load_Type'].value_counts().index,autopct='%1.2f%%')"
   ]
  },
  {
   "cell_type": "code",
   "execution_count": 34,
   "id": "ad834ad1-f1e2-44d2-8c1e-7ec5673c7b24",
   "metadata": {},
   "outputs": [
    {
     "data": {
      "image/png": "[encoded data removed]",
      "text/plain": [
       "<Figure size 432x432 with 1 Axes>"
      ]
     },
     "metadata": {},
     "output_type": "display_data"
    }
   ],
   "source": [
    "plt.figure(figsize=(6,6))\n",
    "sns.countplot(data=df, x=\"Usage_kWh\")\n",
    "plt.show()"
   ]
  },
  {
   "cell_type": "markdown",
   "id": "73c95848-36f2-44ff-abac-7bf72f4d36f4",
   "metadata": {},
   "source": [
    "## From the above plots we observed that light load is more."
   ]
  },
  {
   "cell_type": "markdown",
   "id": "a42ac3fe-e755-4cb4-b94f-fe881be0e770",
   "metadata": {},
   "source": []
  }
 ],
 "metadata": {
  "kernelspec": {
   "display_name": "Python 3 (ipykernel)",
   "language": "python",
   "name": "python3"
  },
  "language_info": {
   "codemirror_mode": {
    "name": "ipython",
    "version": 3
   },
   "file_extension": ".py",
   "mimetype": "text/x-python",
   "name": "python",
   "nbconvert_exporter": "python",
   "pygments_lexer": "ipython3",
   "version": "3.9.7"
  }
 },
 "nbformat": 4,
 "nbformat_minor": 5
}
